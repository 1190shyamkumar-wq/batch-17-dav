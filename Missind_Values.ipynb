{
  "nbformat": 4,
  "nbformat_minor": 0,
  "metadata": {
    "colab": {
      "provenance": [],
      "authorship_tag": "ABX9TyPGbcIkI1qs+Nn7TVhIjPJe",
      "include_colab_link": true
    },
    "kernelspec": {
      "name": "python3",
      "display_name": "Python 3"
    },
    "language_info": {
      "name": "python"
    }
  },
  "cells": [
    {
      "cell_type": "markdown",
      "metadata": {
        "id": "view-in-github",
        "colab_type": "text"
      },
      "source": [
        "<a href=\"https://colab.research.google.com/github/1190shyamkumar-wq/batch-17-dav/blob/main/Missind_Values.ipynb\" target=\"_parent\"><img src=\"https://colab.research.google.com/assets/colab-badge.svg\" alt=\"Open In Colab\"/></a>"
      ]
    },
    {
      "cell_type": "code",
      "execution_count": 1,
      "metadata": {
        "colab": {
          "base_uri": "https://localhost:8080/"
        },
        "id": "s0RkZM31eWsy",
        "outputId": "82aa1073-9d02-45d5-84fb-cda975acc49e"
      },
      "outputs": [
        {
          "output_type": "stream",
          "name": "stdout",
          "text": [
            "   patientid   Age     BP\n",
            "0          1  25.0  120.0\n",
            "1          2  30.0    NaN\n",
            "2          3   NaN  110.0\n",
            "3          4  40.0  140.0\n",
            "4          5  50.0    NaN\n"
          ]
        }
      ],
      "source": [
        "import pandas as pd\n",
        "import numpy as np\n",
        "\n",
        "data={'patientid':[1,2,3,4,5],\n",
        "      'Age':[25,30,None,40,50],\n",
        "      'BP':[120,None,110,140,None]}\n",
        "df=pd.DataFrame(data)\n",
        "print(df)"
      ]
    },
    {
      "cell_type": "code",
      "source": [
        "import pandas as pd\n",
        "data={'BP':[120,None,None,125,None,150]}\n",
        "df=pd.DataFrame(data)\n",
        "df['BP'].fillna(method='ffill', inplace=True)\n",
        "print(df)"
      ],
      "metadata": {
        "colab": {
          "base_uri": "https://localhost:8080/"
        },
        "id": "u1LdSO2zeZIv",
        "outputId": "56dacf4a-1ae6-43a6-8fae-135b0ceb51ec"
      },
      "execution_count": 9,
      "outputs": [
        {
          "output_type": "stream",
          "name": "stdout",
          "text": [
            "      BP\n",
            "0  120.0\n",
            "1  120.0\n",
            "2  120.0\n",
            "3  125.0\n",
            "4  125.0\n",
            "5  150.0\n"
          ]
        },
        {
          "output_type": "stream",
          "name": "stderr",
          "text": [
            "/tmp/ipython-input-3968346752.py:4: FutureWarning: A value is trying to be set on a copy of a DataFrame or Series through chained assignment using an inplace method.\n",
            "The behavior will change in pandas 3.0. This inplace method will never work because the intermediate object on which we are setting values always behaves as a copy.\n",
            "\n",
            "For example, when doing 'df[col].method(value, inplace=True)', try using 'df.method({col: value}, inplace=True)' or df[col] = df[col].method(value) instead, to perform the operation inplace on the original object.\n",
            "\n",
            "\n",
            "  df['BP'].fillna(method='ffill', inplace=True)\n",
            "/tmp/ipython-input-3968346752.py:4: FutureWarning: Series.fillna with 'method' is deprecated and will raise in a future version. Use obj.ffill() or obj.bfill() instead.\n",
            "  df['BP'].fillna(method='ffill', inplace=True)\n"
          ]
        }
      ]
    },
    {
      "cell_type": "code",
      "source": [
        "import pandas as pd\n",
        "sales=pd.DataFrame({\n",
        "    'OrderID':[101,102,103,101],\n",
        "    'Product':['Mobile','Laptop','Tablet','Mobile'],\n",
        "    'Amount':[20000,50000,15000,20000]\n",
        "})\n",
        "print(sales.duplicated())\n",
        "sales_df=sales.drop_duplicates()\n",
        "print(sales_df)"
      ],
      "metadata": {
        "colab": {
          "base_uri": "https://localhost:8080/"
        },
        "id": "h1QqH3vxegUv",
        "outputId": "9bb4f639-e11c-490e-aab9-6d25882f2c8f"
      },
      "execution_count": 11,
      "outputs": [
        {
          "output_type": "stream",
          "name": "stdout",
          "text": [
            "0    False\n",
            "1    False\n",
            "2    False\n",
            "3     True\n",
            "dtype: bool\n",
            "   OrderID Product  Amount\n",
            "0      101  Mobile   20000\n",
            "1      102  Laptop   50000\n",
            "2      103  Tablet   15000\n"
          ]
        }
      ]
    },
    {
      "cell_type": "code",
      "source": [
        "import pandas as pd\n",
        "data2={'patientid':[1,2,3,4,5,2,4],\n",
        "       'Age':[25,30,90,40,50,30,40],\n",
        "       'BP':[120,130,110,140,135,130,140]}\n",
        "df2=pd.DataFrame(data2)\n",
        "print(df2)\n",
        "print(df2.duplicated())\n"
      ],
      "metadata": {
        "colab": {
          "base_uri": "https://localhost:8080/"
        },
        "id": "9Ph9Rk6aerA8",
        "outputId": "900f0437-c921-4623-8dc6-0638b2611990"
      },
      "execution_count": 17,
      "outputs": [
        {
          "output_type": "stream",
          "name": "stdout",
          "text": [
            "   patientid  Age   BP\n",
            "0          1   25  120\n",
            "1          2   30  130\n",
            "2          3   90  110\n",
            "3          4   40  140\n",
            "4          5   50  135\n",
            "5          2   30  130\n",
            "6          4   40  140\n",
            "0    False\n",
            "1    False\n",
            "2    False\n",
            "3    False\n",
            "4    False\n",
            "5     True\n",
            "6     True\n",
            "dtype: bool\n"
          ]
        }
      ]
    },
    {
      "cell_type": "code",
      "source": [
        "df2['Age'].fillna(df2['Age'].mean(),inplace=True)\n",
        "print(df)"
      ],
      "metadata": {
        "colab": {
          "base_uri": "https://localhost:8080/"
        },
        "id": "_Apv94FxgPc3",
        "outputId": "30b04e15-e124-4564-8fb9-3a8d00850f9a"
      },
      "execution_count": 29,
      "outputs": [
        {
          "output_type": "stream",
          "name": "stdout",
          "text": [
            "      BP\n",
            "0  120.0\n",
            "1  120.0\n",
            "2  120.0\n",
            "3  125.0\n",
            "4  125.0\n",
            "5  150.0\n"
          ]
        },
        {
          "output_type": "stream",
          "name": "stderr",
          "text": [
            "/tmp/ipython-input-4002663293.py:1: FutureWarning: A value is trying to be set on a copy of a DataFrame or Series through chained assignment using an inplace method.\n",
            "The behavior will change in pandas 3.0. This inplace method will never work because the intermediate object on which we are setting values always behaves as a copy.\n",
            "\n",
            "For example, when doing 'df[col].method(value, inplace=True)', try using 'df.method({col: value}, inplace=True)' or df[col] = df[col].method(value) instead, to perform the operation inplace on the original object.\n",
            "\n",
            "\n",
            "  df2['Age'].fillna(df2['Age'].mean(),inplace=True)\n"
          ]
        }
      ]
    }
  ]
}