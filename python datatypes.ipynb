{
  "nbformat": 4,
  "nbformat_minor": 0,
  "metadata": {
    "colab": {
      "provenance": [],
      "authorship_tag": "ABX9TyO5uo94xPaHHrUDE+vQNIyc",
      "include_colab_link": true
    },
    "kernelspec": {
      "name": "python3",
      "display_name": "Python 3"
    },
    "language_info": {
      "name": "python"
    }
  },
  "cells": [
    {
      "cell_type": "markdown",
      "metadata": {
        "id": "view-in-github",
        "colab_type": "text"
      },
      "source": [
        "<a href=\"https://colab.research.google.com/github/1190shyamkumar-wq/batch-17-dav/blob/main/python%20datatypes.ipynb\" target=\"_parent\"><img src=\"https://colab.research.google.com/assets/colab-badge.svg\" alt=\"Open In Colab\"/></a>"
      ]
    },
    {
      "cell_type": "code",
      "execution_count": 1,
      "metadata": {
        "colab": {
          "base_uri": "https://localhost:8080/"
        },
        "id": "L78VF-ulexoj",
        "outputId": "d91a132d-4d55-478a-c679-274924c7d3de"
      },
      "outputs": [
        {
          "output_type": "stream",
          "name": "stdout",
          "text": [
            "List: [1, 2, 3, 'apple', 'banana']\n",
            "Empty List: []\n",
            "List from Range: [0, 1, 2, 3, 4]\n",
            "Tuple: (10, 20, 'cherry')\n",
            "Single Element Tuple: (5,)\n",
            "Empty Tuple: ()\n",
            "Dictionary: {'name': 'Alice', 'age': 30, 'city': 'New York'}\n",
            "Empty Dictionary: {}\n",
            "\n",
            "DataFrame from Dictionary:\n",
            "    Name  Age    City\n",
            "0   John   28  London\n",
            "1   Anna   24   Paris\n",
            "2  Peter   35  Berlin\n",
            "\n",
            "DataFrame from List of Lists:\n",
            "    Name  Age    City\n",
            "0   John   28  London\n",
            "1   Anna   24   Paris\n",
            "2  Peter   35  Berlin\n"
          ]
        }
      ],
      "source": [
        "# Create a List\n",
        "# A list is an ordered, mutable collection of items.\n",
        "my_list = [1, 2, 3, \"apple\", \"banana\"]\n",
        "empty_list = []\n",
        "list_from_range = list(range(5)) # Creates a list [0, 1, 2, 3, 4]\n",
        "\n",
        "print(f\"List: {my_list}\")\n",
        "print(f\"Empty List: {empty_list}\")\n",
        "print(f\"List from Range: {list_from_range}\")\n",
        "\n",
        "# Create a Tuple\n",
        "# A tuple is an ordered, immutable collection of items.\n",
        "my_tuple = (10, 20, \"cherry\")\n",
        "single_element_tuple = (5,) # Comma is essential for a single-element tuple\n",
        "empty_tuple = ()\n",
        "\n",
        "print(f\"Tuple: {my_tuple}\")\n",
        "print(f\"Single Element Tuple: {single_element_tuple}\")\n",
        "print(f\"Empty Tuple: {empty_tuple}\")\n",
        "\n",
        "# Create a Dictionary\n",
        "# A dictionary is an unordered collection of key-value pairs.\n",
        "my_dict = {\"name\": \"Alice\", \"age\": 30, \"city\": \"New York\"}\n",
        "empty_dict = {}\n",
        "\n",
        "print(f\"Dictionary: {my_dict}\")\n",
        "print(f\"Empty Dictionary: {empty_dict}\")\n",
        "\n",
        "# Create a Pandas DataFrame\n",
        "# A DataFrame is a 2-dimensional labeled data structure with columns of potentially different types.\n",
        "# Requires the pandas library.\n",
        "import pandas as pd\n",
        "\n",
        "# From a dictionary of lists\n",
        "data_dict = {\n",
        "    \"Name\": [\"John\", \"Anna\", \"Peter\"],\n",
        "    \"Age\": [28, 24, 35],\n",
        "    \"City\": [\"London\", \"Paris\", \"Berlin\"]\n",
        "}\n",
        "df_from_dict = pd.DataFrame(data_dict)\n",
        "\n",
        "# From a list of lists\n",
        "data_list = [\n",
        "    [\"John\", 28, \"London\"],\n",
        "    [\"Anna\", 24, \"Paris\"],\n",
        "    [\"Peter\", 35, \"Berlin\"]\n",
        "]\n",
        "df_from_list = pd.DataFrame(data_list, columns=[\"Name\", \"Age\", \"City\"])\n",
        "\n",
        "print(\"\\nDataFrame from Dictionary:\")\n",
        "print(df_from_dict)\n",
        "\n",
        "print(\"\\nDataFrame from List of Lists:\")\n",
        "print(df_from_list)"
      ]
    }
  ]
}